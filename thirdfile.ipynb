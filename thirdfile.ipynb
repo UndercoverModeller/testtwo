{
  "nbformat": 4,
  "nbformat_minor": 2,
  "metadata": {},
  "cells": [
    {
      "cell_type": "code",
      "source": [
        "# Test 1\n",
        "# This is the third file"
      ],
      "execution_count": 0,
      "outputs": [],
      "metadata": {}
    }
  ]
}